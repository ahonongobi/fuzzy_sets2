{
 "cells": [
  {
   "cell_type": "code",
   "execution_count": 1,
   "id": "initial_id",
   "metadata": {
    "collapsed": true,
    "ExecuteTime": {
     "end_time": "2025-03-30T19:00:35.003190Z",
     "start_time": "2025-03-30T18:59:05.032453Z"
    }
   },
   "outputs": [
    {
     "name": "stdout",
     "output_type": "stream",
     "text": [
      "Defaulting to user installation because normal site-packages is not writeable\r\n",
      "Collecting fcmpy\r\n",
      "  Using cached fcmpy-0.0.21-py3-none-any.whl (63 kB)\r\n",
      "Requirement already satisfied: scikit-fuzzy>=0.4.2 in ./.local/lib/python3.10/site-packages (from fcmpy) (0.5.0)\r\n",
      "Collecting seaborn==0.11.2\r\n",
      "\u001B[33m  WARNING: Retrying (Retry(total=4, connect=None, read=None, redirect=None, status=None)) after connection broken by 'ProtocolError('Connection aborted.', ConnectionResetError(104, 'Connection reset by peer'))': /packages/10/5b/0479d7d845b5ba410ca702ffcd7f2cd95a14a4dfff1fde2637802b258b9b/seaborn-0.11.2-py3-none-any.whl\u001B[0m\u001B[33m\r\n",
      "\u001B[0m  Downloading seaborn-0.11.2-py3-none-any.whl (292 kB)\r\n",
      "\u001B[2K     \u001B[38;2;114;156;31m━━━━━━━━━━━━━━━━━━━━━━━━━━━━━━━━━━━━━━\u001B[0m \u001B[32m292.8/292.8 KB\u001B[0m \u001B[31m13.1 kB/s\u001B[0m eta \u001B[36m0:00:00\u001B[0m[36m0:00:01\u001B[0mm eta \u001B[36m0:00:03\u001B[0m\r\n",
      "\u001B[?25hCollecting xlrd==1.2.0\r\n",
      "  Using cached xlrd-1.2.0-py2.py3-none-any.whl (103 kB)\r\n",
      "Requirement already satisfied: numpy>=1.13.3 in ./.local/lib/python3.10/site-packages (from fcmpy) (1.25.0)\r\n",
      "Requirement already satisfied: python-dateutil in ./.local/lib/python3.10/site-packages (from fcmpy) (2.8.2)\r\n",
      "Collecting tqdm==4.62.3\r\n",
      "  Using cached tqdm-4.62.3-py2.py3-none-any.whl (76 kB)\r\n",
      "Collecting fcmpy\r\n",
      "  Downloading fcmpy-0.0.2-py3-none-any.whl (66 kB)\r\n",
      "\u001B[2K     \u001B[38;2;114;156;31m━━━━━━━━━━━━━━━━━━━━━━━━━━━━━━━━━━━━━━━━\u001B[0m \u001B[32m66.7/66.7 KB\u001B[0m \u001B[31m20.9 kB/s\u001B[0m eta \u001B[36m0:00:00\u001B[0m31m17.9 kB/s\u001B[0m eta \u001B[36m0:00:02\u001B[0m\r\n",
      "\u001B[?25h\u001B[31mERROR: Cannot install fcmpy==0.0.2 and fcmpy==0.0.21 because these package versions have conflicting dependencies.\u001B[0m\u001B[31m\r\n",
      "\u001B[0m\r\n",
      "The conflict is caused by:\r\n",
      "    fcmpy 0.0.21 depends on scipy==1.7.1\r\n",
      "    fcmpy 0.0.2 depends on scipy==1.7.1\r\n",
      "\r\n",
      "To fix this you could try to:\r\n",
      "1. loosen the range of package versions you've specified\r\n",
      "2. remove package versions to allow pip attempt to solve the dependency conflict\r\n",
      "\r\n",
      "\u001B[31mERROR: ResolutionImpossible: for help visit https://pip.pypa.io/en/latest/topics/dependency-resolution/#dealing-with-dependency-conflicts\u001B[0m\u001B[31m\r\n",
      "\u001B[0m"
     ]
    },
    {
     "ename": "ModuleNotFoundError",
     "evalue": "No module named 'fcmpy'",
     "output_type": "error",
     "traceback": [
      "\u001B[0;31m---------------------------------------------------------------------------\u001B[0m",
      "\u001B[0;31mModuleNotFoundError\u001B[0m                       Traceback (most recent call last)",
      "Cell \u001B[0;32mIn[1], line 2\u001B[0m\n\u001B[1;32m      1\u001B[0m get_ipython()\u001B[38;5;241m.\u001B[39msystem(\u001B[38;5;124m'\u001B[39m\u001B[38;5;124mpip install fcmpy\u001B[39m\u001B[38;5;124m'\u001B[39m)\n\u001B[0;32m----> 2\u001B[0m \u001B[38;5;28;01mfrom\u001B[39;00m \u001B[38;5;21;01mfcmpy\u001B[39;00m \u001B[38;5;28;01mimport\u001B[39;00m FcmSimulator\n\u001B[1;32m      4\u001B[0m \u001B[38;5;66;03m# Define the FCM structure\u001B[39;00m\n\u001B[1;32m      5\u001B[0m fcm \u001B[38;5;241m=\u001B[39m {\n\u001B[1;32m      6\u001B[0m     \u001B[38;5;124m'\u001B[39m\u001B[38;5;124mextroverted\u001B[39m\u001B[38;5;124m'\u001B[39m: {\u001B[38;5;124m'\u001B[39m\u001B[38;5;124mseeks_extroverted\u001B[39m\u001B[38;5;124m'\u001B[39m: \u001B[38;5;241m0.7\u001B[39m, \u001B[38;5;124m'\u001B[39m\u001B[38;5;124mmatch_score\u001B[39m\u001B[38;5;124m'\u001B[39m: \u001B[38;5;241m0.5\u001B[39m},\n\u001B[1;32m      7\u001B[0m     \u001B[38;5;124m'\u001B[39m\u001B[38;5;124mromantic\u001B[39m\u001B[38;5;124m'\u001B[39m: {\u001B[38;5;124m'\u001B[39m\u001B[38;5;124mseeks_romantic\u001B[39m\u001B[38;5;124m'\u001B[39m: \u001B[38;5;241m0.9\u001B[39m, \u001B[38;5;124m'\u001B[39m\u001B[38;5;124mmatch_score\u001B[39m\u001B[38;5;124m'\u001B[39m: \u001B[38;5;241m0.8\u001B[39m},\n\u001B[1;32m      8\u001B[0m     \u001B[38;5;124m'\u001B[39m\u001B[38;5;124mseeks_extroverted\u001B[39m\u001B[38;5;124m'\u001B[39m: {\u001B[38;5;124m'\u001B[39m\u001B[38;5;124mmatch_score\u001B[39m\u001B[38;5;124m'\u001B[39m: \u001B[38;5;241m-\u001B[39m\u001B[38;5;241m0.3\u001B[39m},  \u001B[38;5;66;03m# Negative if they dislike extroversion\u001B[39;00m\n\u001B[1;32m      9\u001B[0m     \u001B[38;5;124m'\u001B[39m\u001B[38;5;124mmatch_score\u001B[39m\u001B[38;5;124m'\u001B[39m: {}  \u001B[38;5;66;03m# Output node\u001B[39;00m\n\u001B[1;32m     10\u001B[0m }\n",
      "\u001B[0;31mModuleNotFoundError\u001B[0m: No module named 'fcmpy'"
     ]
    }
   ],
   "source": [
    "!pip install fcmpy\n",
    "from fcmpy import FcmSimulator\n",
    "\n",
    "# Define the FCM structure\n",
    "fcm = {\n",
    "    'extroverted': {'seeks_extroverted': 0.7, 'match_score': 0.5},\n",
    "    'romantic': {'seeks_romantic': 0.9, 'match_score': 0.8},\n",
    "    'seeks_extroverted': {'match_score': -0.3},  # Negative if they dislike extroversion\n",
    "    'match_score': {}  # Output node\n",
    "}\n",
    "\n",
    "# Simulate a match\n",
    "simulator = FcmSimulator()\n",
    "result = simulator.simulate(fcm, initial_state={'extroverted': 1, 'romantic': 1}, iterations=10)\n",
    "print(\"Match score:\", result['match_score'][-1])  # Final compatibility score"
   ]
  },
  {
   "cell_type": "code",
   "outputs": [],
   "source": [],
   "metadata": {
    "collapsed": false
   },
   "id": "26219e1548d2b937"
  }
 ],
 "metadata": {
  "kernelspec": {
   "display_name": "Python 3",
   "language": "python",
   "name": "python3"
  },
  "language_info": {
   "codemirror_mode": {
    "name": "ipython",
    "version": 2
   },
   "file_extension": ".py",
   "mimetype": "text/x-python",
   "name": "python",
   "nbconvert_exporter": "python",
   "pygments_lexer": "ipython2",
   "version": "2.7.6"
  }
 },
 "nbformat": 4,
 "nbformat_minor": 5
}
